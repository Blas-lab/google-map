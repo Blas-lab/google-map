{
 "cells": [
  {
   "attachments": {},
   "cell_type": "markdown",
   "metadata": {},
   "source": [
    "SCRIPT PARA CARGAR EL MODELO ENTRENADO EXPORTADO Y EL DATASET A UTILIZAR\n",
    "PARA LAS RECOMENDACIONES"
   ]
  },
  {
   "cell_type": "code",
   "execution_count": 1,
   "metadata": {},
   "outputs": [],
   "source": [
    "# Importamos la librería Pickle para cargar el modelo entrenado y guardado\n",
    "import pickle\n",
    "\n",
    "# Cargamos el modelo\n",
    "svd = pickle.load(open(\"model.pkl\",\"rb\"))"
   ]
  },
  {
   "cell_type": "code",
   "execution_count": 4,
   "metadata": {},
   "outputs": [],
   "source": [
    "# Importamos la libreria Difflib para la bùsqueda de strings y random para ofrecer\n",
    "# recomendaciones al azar\n",
    "import difflib\n",
    "import random\n",
    "\n",
    "\n",
    "# Creamos las funciones a utilizar\n",
    "def get_restaurant_id(restaurant_title, metadata):\n",
    "    '''\n",
    "    Busca el gmap_id del restaurant cuyo nombre se pasa como parámetro en el \n",
    "    dataset y devuelve su gmap_id\n",
    "    '''    \n",
    "    existing_titles = list(metadata['name'].values)\n",
    "    closest_titles = difflib.get_close_matches(restaurant_title, existing_titles)\n",
    "    restaurant_id = metadata[metadata['name'] == closest_titles[0]]['gmap_id'].values[0]\n",
    "    return restaurant_id\n",
    "\n",
    "def get_restaurant_info(restaurant_id, metadata):\n",
    "    '''\n",
    "    Accede a los datos del restaurant seleccionado y genera un diccionario con los\n",
    "    mismos para configurar la salida de la función principal\n",
    "    '''   \n",
    "    restaurant_info = metadata[metadata['gmap_id'] == restaurant_id][['gmap_id', 'name', \n",
    "                                                    'address', 'avg_rating', 'description', 'description_x', 'city']]\n",
    "    return restaurant_info.to_dict(orient='records')\n",
    "\n",
    "def predict_review(user_id, restaurant_title, model, metadata):\n",
    "    '''\n",
    "    Predice y retorna el puntaje que el usuario pasado como parámetro le daría al restaurante\n",
    "    pasado como parámetro\n",
    "    '''   \n",
    "    restaurant_id = get_restaurant_id(restaurant_title, metadata)\n",
    "    review_prediction = model.predict(uid=user_id, iid=restaurant_id)\n",
    "    return review_prediction.est\n",
    "\n",
    "def generate_recommendation(user_id, model, metadata, thresh=4.0):\n",
    "    '''\n",
    "    Genera una recomendación aleatoria de restaurantes para el usuario indicado\n",
    "    sobre todas las opciones del dataset, tomando como única condición\n",
    "    que el puntaje que el usuario le otorgaría al mismo supere el threshold\n",
    "    pasado como parámetro\n",
    "    '''   \n",
    "    restaurant_titles = list(metadata['name'].values)\n",
    "    random.shuffle(restaurant_titles)\n",
    "    \n",
    "    for restaurant_title in restaurant_titles:\n",
    "        rating = predict_review(user_id, restaurant_title, model, metadata)\n",
    "        if rating >= thresh:\n",
    "            restaurant_id = get_restaurant_id(restaurant_title, metadata)\n",
    "            return get_restaurant_info(restaurant_id, metadata)\n",
    "            \n",
    "def generate_recommendation_by_city(user_id, city, model, metadata, thresh=4.0):\n",
    "    '''\n",
    "    Genera una recomendación aleatoria de restaurantes para el usuario indicado\n",
    "    sobre la ciudad indicada, tomando como condición también que el puntaje que\n",
    "    el usuario le otorgaría al mismo supere el threshold pasado como parámetro\n",
    "    '''   \n",
    "    restaurant_city = metadata[metadata[\"city\"] == city]\n",
    "    restaurant_titles = list(restaurant_city['name'].values)\n",
    "    random.shuffle(restaurant_titles)\n",
    "    \n",
    "    for restaurant_title in restaurant_titles:\n",
    "        rating = predict_review(user_id, restaurant_title, model, metadata)\n",
    "        if rating >= thresh:\n",
    "            restaurant_id = get_restaurant_id(restaurant_title, metadata)\n",
    "            return get_restaurant_info(restaurant_id, metadata)"
   ]
  },
  {
   "cell_type": "code",
   "execution_count": 2,
   "metadata": {},
   "outputs": [],
   "source": [
    "# Importamos Pandas para importar el dataser con los restaurantes de EEUU\n",
    "import pandas as pd\n",
    "comercios_comida = pd.read_csv(\"./comercios_comida.csv\")"
   ]
  },
  {
   "cell_type": "code",
   "execution_count": 5,
   "metadata": {},
   "outputs": [
    {
     "data": {
      "text/plain": [
       "[{'gmap_id': '0x8830efadb77d6549:0x645997dd6f76a63d',\n",
       "  'name': 'Brooklyn Pub',\n",
       "  'address': 'Brooklyn Pub, 6900 Biddulph Rd, Cleveland, OH 44144',\n",
       "  'avg_rating': 4.3,\n",
       "  'description': nan,\n",
       "  'description_x': 'Bar',\n",
       "  'city': 'Cleveland'}]"
      ]
     },
     "execution_count": 5,
     "metadata": {},
     "output_type": "execute_result"
    }
   ],
   "source": [
    "# Generamos una recomendación de ejemplo para el usuario cuyo ID es\n",
    "# 113055753770388899087 en la ciudad de Cleveland\n",
    "generate_recommendation_by_city(113055753770388899087,  \"Cleveland\", svd, comercios_comida)"
   ]
  }
 ],
 "metadata": {
  "kernelspec": {
   "display_name": "Python 3",
   "language": "python",
   "name": "python3"
  },
  "language_info": {
   "codemirror_mode": {
    "name": "ipython",
    "version": 3
   },
   "file_extension": ".py",
   "mimetype": "text/x-python",
   "name": "python",
   "nbconvert_exporter": "python",
   "pygments_lexer": "ipython3",
   "version": "3.10.6"
  },
  "orig_nbformat": 4,
  "vscode": {
   "interpreter": {
    "hash": "9a8ac931c2da658386087c1aeacfbaae947468c457a926ada196b02a9b560fa1"
   }
  }
 },
 "nbformat": 4,
 "nbformat_minor": 2
}
