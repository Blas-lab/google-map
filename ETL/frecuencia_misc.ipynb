{
 "cells": [
  {
   "attachments": {},
   "cell_type": "markdown",
   "metadata": {},
   "source": [
    "En este notebook vamos a contar la frecuencia de los caracteristicas de los comercios presentes en el dataset, ubicados en la columna \"misc\""
   ]
  },
  {
   "cell_type": "code",
   "execution_count": 1,
   "metadata": {},
   "outputs": [],
   "source": [
    "# Importamos Pandas para el manejo de dataframes\n",
    "import pandas as pd"
   ]
  },
  {
   "cell_type": "code",
   "execution_count": 10,
   "metadata": {},
   "outputs": [],
   "source": [
    "# Generamos un dataframe con la columna \"misc\"\n",
    "misc = pd.read_csv(\"miscantesdeunique.csv\", header= None, names = [\"misc\"])"
   ]
  },
  {
   "cell_type": "code",
   "execution_count": 11,
   "metadata": {},
   "outputs": [
    {
     "data": {
      "text/html": [
       "<div>\n",
       "<style scoped>\n",
       "    .dataframe tbody tr th:only-of-type {\n",
       "        vertical-align: middle;\n",
       "    }\n",
       "\n",
       "    .dataframe tbody tr th {\n",
       "        vertical-align: top;\n",
       "    }\n",
       "\n",
       "    .dataframe thead th {\n",
       "        text-align: right;\n",
       "    }\n",
       "</style>\n",
       "<table border=\"1\" class=\"dataframe\">\n",
       "  <thead>\n",
       "    <tr style=\"text-align: right;\">\n",
       "      <th></th>\n",
       "      <th>misc</th>\n",
       "    </tr>\n",
       "  </thead>\n",
       "  <tbody>\n",
       "    <tr>\n",
       "      <th>0</th>\n",
       "      <td>'Service options' 'Takeout' 'Dine-in' 'Deliver...</td>\n",
       "    </tr>\n",
       "    <tr>\n",
       "      <th>1</th>\n",
       "      <td>'Service options' 'Outdoor seating' 'Curbside ...</td>\n",
       "    </tr>\n",
       "    <tr>\n",
       "      <th>2</th>\n",
       "      <td>'Health &amp; safety' 'Appointment required' 'Acce...</td>\n",
       "    </tr>\n",
       "    <tr>\n",
       "      <th>3</th>\n",
       "      <td>'Service options' 'Takeout' 'Dine-in' 'Deliver...</td>\n",
       "    </tr>\n",
       "    <tr>\n",
       "      <th>4</th>\n",
       "      <td>'Health &amp; safety' 'Mask required' 'Staff wear ...</td>\n",
       "    </tr>\n",
       "    <tr>\n",
       "      <th>...</th>\n",
       "      <td>...</td>\n",
       "    </tr>\n",
       "    <tr>\n",
       "      <th>287695</th>\n",
       "      <td>'Service options' 'Takeout' 'Dine-in' 'Deliver...</td>\n",
       "    </tr>\n",
       "    <tr>\n",
       "      <th>287696</th>\n",
       "      <td>'Service options' 'Curbside pickup' 'No-contac...</td>\n",
       "    </tr>\n",
       "    <tr>\n",
       "      <th>287697</th>\n",
       "      <td>'Service options' 'Takeout' 'Dine-in' 'Deliver...</td>\n",
       "    </tr>\n",
       "    <tr>\n",
       "      <th>287698</th>\n",
       "      <td>'Service options' 'Takeout' 'Dine-in' 'Deliver...</td>\n",
       "    </tr>\n",
       "    <tr>\n",
       "      <th>287699</th>\n",
       "      <td>'Service options' 'Takeout' 'Dine-in' 'Deliver...</td>\n",
       "    </tr>\n",
       "  </tbody>\n",
       "</table>\n",
       "<p>287700 rows × 1 columns</p>\n",
       "</div>"
      ],
      "text/plain": [
       "                                                     misc\n",
       "0       'Service options' 'Takeout' 'Dine-in' 'Deliver...\n",
       "1       'Service options' 'Outdoor seating' 'Curbside ...\n",
       "2       'Health & safety' 'Appointment required' 'Acce...\n",
       "3       'Service options' 'Takeout' 'Dine-in' 'Deliver...\n",
       "4       'Health & safety' 'Mask required' 'Staff wear ...\n",
       "...                                                   ...\n",
       "287695  'Service options' 'Takeout' 'Dine-in' 'Deliver...\n",
       "287696  'Service options' 'Curbside pickup' 'No-contac...\n",
       "287697  'Service options' 'Takeout' 'Dine-in' 'Deliver...\n",
       "287698  'Service options' 'Takeout' 'Dine-in' 'Deliver...\n",
       "287699  'Service options' 'Takeout' 'Dine-in' 'Deliver...\n",
       "\n",
       "[287700 rows x 1 columns]"
      ]
     },
     "execution_count": 11,
     "metadata": {},
     "output_type": "execute_result"
    }
   ],
   "source": [
    "# Visualizamos el dataframe\n",
    "misc"
   ]
  },
  {
   "cell_type": "code",
   "execution_count": 13,
   "metadata": {},
   "outputs": [],
   "source": [
    "# Generamos listado con la frecuencia de cada característica, en orden descendente\n",
    "cuenta = misc['misc'].str.split(\"'\", expand=True).stack().value_counts()"
   ]
  },
  {
   "cell_type": "code",
   "execution_count": 17,
   "metadata": {},
   "outputs": [
    {
     "data": {
      "text/plain": [
       "                                    3314642\n",
       "                                     575384\n",
       "Accessibility                        199332\n",
       "Wheelchair accessible entrance       191958\n",
       "Service options                      167830\n",
       "                                     ...   \n",
       "On-site services                          2\n",
       "All-inclusive                             2\n",
       "Passport photos                           1\n",
       "-hour public transport available          1\n",
       "Good discounts                            1\n",
       "Length: 177, dtype: int64"
      ]
     },
     "execution_count": 17,
     "metadata": {},
     "output_type": "execute_result"
    }
   ],
   "source": [
    "# Visualizamos el resultado\n",
    "cuenta"
   ]
  },
  {
   "cell_type": "code",
   "execution_count": 18,
   "metadata": {},
   "outputs": [],
   "source": [
    "# Exportamos a un csv la el listado\n",
    "cuenta.to_csv(\"cuenta.csv\")"
   ]
  }
 ],
 "metadata": {
  "kernelspec": {
   "display_name": "Python 3",
   "language": "python",
   "name": "python3"
  },
  "language_info": {
   "codemirror_mode": {
    "name": "ipython",
    "version": 3
   },
   "file_extension": ".py",
   "mimetype": "text/x-python",
   "name": "python",
   "nbconvert_exporter": "python",
   "pygments_lexer": "ipython3",
   "version": "3.10.6"
  },
  "orig_nbformat": 4,
  "vscode": {
   "interpreter": {
    "hash": "9a8ac931c2da658386087c1aeacfbaae947468c457a926ada196b02a9b560fa1"
   }
  }
 },
 "nbformat": 4,
 "nbformat_minor": 2
}
