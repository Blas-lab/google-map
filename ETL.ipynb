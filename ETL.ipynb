{
 "cells": [
  {
   "attachments": {},
   "cell_type": "markdown",
   "metadata": {},
   "source": [
    "Vamos a realizar limpieza de datos para subir"
   ]
  },
  {
   "cell_type": "code",
   "execution_count": 3,
   "metadata": {},
   "outputs": [],
   "source": [
    "import pandas as pd"
   ]
  },
  {
   "cell_type": "code",
   "execution_count": 4,
   "metadata": {},
   "outputs": [],
   "source": [
    "categorias_sin_filtro = pd.read_csv(\"categorias-sin-filtro.csv\")\n",
    "categorias_con_filtro = pd.read_csv(\"categorias.csv\")"
   ]
  },
  {
   "cell_type": "code",
   "execution_count": 5,
   "metadata": {},
   "outputs": [],
   "source": [
    "# assume that \"categorias_sin_filtro\" and \"categoria_con_filtro\" dataframes already exist\n",
    "\n",
    "# create a boolean mask to identify the rows in \"categorias_sin_filtro\" that don't match with \"categoria_con_filtro\"\n",
    "mask = ~categorias_sin_filtro['category'].isin(categorias_con_filtro['category'])\n",
    "\n",
    "# create the \"otras_categorias\" dataframe using the boolean mask\n",
    "otras_categorias = categorias_sin_filtro[mask]\n",
    "otras_categorias.to_csv('otras_categorias.csv')"
   ]
  },
  {
   "cell_type": "code",
   "execution_count": 6,
   "metadata": {},
   "outputs": [],
   "source": [
    "#import\n",
    "df_metadata_1 = pd.read_json(\"datasets/1.json\", lines=True)\n",
    "categories = pd.read_csv(\"category_final.csv\")\n"
   ]
  },
  {
   "cell_type": "code",
   "execution_count": 8,
   "metadata": {},
   "outputs": [
    {
     "name": "stdout",
     "output_type": "stream",
     "text": [
      "<class 'pandas.core.series.Series'>\n",
      "RangeIndex: 275001 entries, 0 to 275000\n",
      "Series name: category\n",
      "Non-Null Count   Dtype \n",
      "--------------   ----- \n",
      "275001 non-null  object\n",
      "dtypes: object(1)\n",
      "memory usage: 2.1+ MB\n"
     ]
    }
   ],
   "source": [
    "#cambiamos type \n",
    "df_metadata_1['category'] = df_metadata_1['category'].astype(str)\n",
    "df_metadata_1['category'].info()"
   ]
  },
  {
   "cell_type": "code",
   "execution_count": 9,
   "metadata": {},
   "outputs": [
    {
     "name": "stderr",
     "output_type": "stream",
     "text": [
      "/var/folders/vr/lstpy99j3yv9_z9jr_pmd2_w0000gn/T/ipykernel_7729/3957730517.py:1: FutureWarning: The default value of regex will change from True to False in a future version. In addition, single character regular expressions will *not* be treated as literal strings when regex=True.\n",
      "  df_metadata_1['category'] = df_metadata_1['category'].str.replace(\"[\", \"\").str.replace(\"]\", \"\")\n"
     ]
    },
    {
     "data": {
      "text/html": [
       "<div>\n",
       "<style scoped>\n",
       "    .dataframe tbody tr th:only-of-type {\n",
       "        vertical-align: middle;\n",
       "    }\n",
       "\n",
       "    .dataframe tbody tr th {\n",
       "        vertical-align: top;\n",
       "    }\n",
       "\n",
       "    .dataframe thead th {\n",
       "        text-align: right;\n",
       "    }\n",
       "</style>\n",
       "<table border=\"1\" class=\"dataframe\">\n",
       "  <thead>\n",
       "    <tr style=\"text-align: right;\">\n",
       "      <th></th>\n",
       "      <th>name</th>\n",
       "      <th>address</th>\n",
       "      <th>gmap_id</th>\n",
       "      <th>description</th>\n",
       "      <th>latitude</th>\n",
       "      <th>longitude</th>\n",
       "      <th>category</th>\n",
       "      <th>avg_rating</th>\n",
       "      <th>num_of_reviews</th>\n",
       "      <th>price</th>\n",
       "      <th>hours</th>\n",
       "      <th>MISC</th>\n",
       "      <th>state</th>\n",
       "      <th>relative_results</th>\n",
       "      <th>url</th>\n",
       "    </tr>\n",
       "  </thead>\n",
       "  <tbody>\n",
       "    <tr>\n",
       "      <th>0</th>\n",
       "      <td>Porter Pharmacy</td>\n",
       "      <td>Porter Pharmacy, 129 N Second St, Cochran, GA ...</td>\n",
       "      <td>0x88f16e41928ff687:0x883dad4fd048e8f8</td>\n",
       "      <td>None</td>\n",
       "      <td>32.388300</td>\n",
       "      <td>-83.357100</td>\n",
       "      <td>Pharmacy</td>\n",
       "      <td>4.9</td>\n",
       "      <td>16</td>\n",
       "      <td>None</td>\n",
       "      <td>[[Friday, 8AM–6PM], [Saturday, 8AM–12PM], [Sun...</td>\n",
       "      <td>{'Service options': ['In-store shopping', 'Sam...</td>\n",
       "      <td>Open ⋅ Closes 6PM</td>\n",
       "      <td>[0x88f16e41929435cf:0x5b2532a2885e9ef6, 0x88f1...</td>\n",
       "      <td>https://www.google.com/maps/place//data=!4m2!3...</td>\n",
       "    </tr>\n",
       "    <tr>\n",
       "      <th>1</th>\n",
       "      <td>City Textile</td>\n",
       "      <td>City Textile, 3001 E Pico Blvd, Los Angeles, C...</td>\n",
       "      <td>0x80c2c98c0e3c16fd:0x29ec8a728764fdf9</td>\n",
       "      <td>None</td>\n",
       "      <td>34.018891</td>\n",
       "      <td>-118.215290</td>\n",
       "      <td>Textile exporter</td>\n",
       "      <td>4.5</td>\n",
       "      <td>6</td>\n",
       "      <td>None</td>\n",
       "      <td>None</td>\n",
       "      <td>None</td>\n",
       "      <td>Open now</td>\n",
       "      <td>[0x80c2c624136ea88b:0xb0315367ed448771, 0x80c2...</td>\n",
       "      <td>https://www.google.com/maps/place//data=!4m2!3...</td>\n",
       "    </tr>\n",
       "    <tr>\n",
       "      <th>2</th>\n",
       "      <td>San Soo Dang</td>\n",
       "      <td>San Soo Dang, 761 S Vermont Ave, Los Angeles, ...</td>\n",
       "      <td>0x80c2c778e3b73d33:0xbdc58662a4a97d49</td>\n",
       "      <td>None</td>\n",
       "      <td>34.058092</td>\n",
       "      <td>-118.292130</td>\n",
       "      <td>Korean restaurant</td>\n",
       "      <td>4.4</td>\n",
       "      <td>18</td>\n",
       "      <td>None</td>\n",
       "      <td>[[Thursday, 6:30AM–6PM], [Friday, 6:30AM–6PM],...</td>\n",
       "      <td>{'Service options': ['Takeout', 'Dine-in', 'De...</td>\n",
       "      <td>Open ⋅ Closes 6PM</td>\n",
       "      <td>[0x80c2c78249aba68f:0x35bf16ce61be751d, 0x80c2...</td>\n",
       "      <td>https://www.google.com/maps/place//data=!4m2!3...</td>\n",
       "    </tr>\n",
       "    <tr>\n",
       "      <th>3</th>\n",
       "      <td>Nova Fabrics</td>\n",
       "      <td>Nova Fabrics, 2200 E 11th St, Los Angeles, CA ...</td>\n",
       "      <td>0x80c2c89923b27a41:0x32041559418d447</td>\n",
       "      <td>None</td>\n",
       "      <td>34.023669</td>\n",
       "      <td>-118.232930</td>\n",
       "      <td>Fabric store</td>\n",
       "      <td>3.3</td>\n",
       "      <td>6</td>\n",
       "      <td>None</td>\n",
       "      <td>[[Thursday, 9AM–5PM], [Friday, 9AM–5PM], [Satu...</td>\n",
       "      <td>{'Service options': ['In-store shopping'], 'Pa...</td>\n",
       "      <td>Open ⋅ Closes 5PM</td>\n",
       "      <td>[0x80c2c8811477253f:0x23a8a492df1918f7, 0x80c2...</td>\n",
       "      <td>https://www.google.com/maps/place//data=!4m2!3...</td>\n",
       "    </tr>\n",
       "    <tr>\n",
       "      <th>4</th>\n",
       "      <td>Nobel Textile Co</td>\n",
       "      <td>Nobel Textile Co, 719 E 9th St, Los Angeles, C...</td>\n",
       "      <td>0x80c2c632f933b073:0xc31785961fe826a6</td>\n",
       "      <td>None</td>\n",
       "      <td>34.036694</td>\n",
       "      <td>-118.249421</td>\n",
       "      <td>Fabric store</td>\n",
       "      <td>4.3</td>\n",
       "      <td>7</td>\n",
       "      <td>None</td>\n",
       "      <td>[[Thursday, 9AM–5PM], [Friday, 9AM–5PM], [Satu...</td>\n",
       "      <td>{'Service options': ['In-store pickup']}</td>\n",
       "      <td>Open ⋅ Closes 5PM</td>\n",
       "      <td>[0x80c2c62c496083d1:0xdefa11317fe870a1, 0x80c2...</td>\n",
       "      <td>https://www.google.com/maps/place//data=!4m2!3...</td>\n",
       "    </tr>\n",
       "    <tr>\n",
       "      <th>...</th>\n",
       "      <td>...</td>\n",
       "      <td>...</td>\n",
       "      <td>...</td>\n",
       "      <td>...</td>\n",
       "      <td>...</td>\n",
       "      <td>...</td>\n",
       "      <td>...</td>\n",
       "      <td>...</td>\n",
       "      <td>...</td>\n",
       "      <td>...</td>\n",
       "      <td>...</td>\n",
       "      <td>...</td>\n",
       "      <td>...</td>\n",
       "      <td>...</td>\n",
       "      <td>...</td>\n",
       "    </tr>\n",
       "    <tr>\n",
       "      <th>274996</th>\n",
       "      <td>Maven Realty</td>\n",
       "      <td>Maven Realty, 2180 McMillan Ave #71672, North ...</td>\n",
       "      <td>0x88fe64e7daceaaab:0x101c046dcadcc9c3</td>\n",
       "      <td>None</td>\n",
       "      <td>32.857737</td>\n",
       "      <td>-79.985839</td>\n",
       "      <td>Real estate agency</td>\n",
       "      <td>4.9</td>\n",
       "      <td>15</td>\n",
       "      <td>None</td>\n",
       "      <td>[[Saturday, Open 24 hours], [Sunday, Open 24 h...</td>\n",
       "      <td>None</td>\n",
       "      <td>Open 24 hours</td>\n",
       "      <td>[0x88fe657160ccc965:0xc675c849dc6d96ba, 0x88fe...</td>\n",
       "      <td>https://www.google.com/maps/place//data=!4m2!3...</td>\n",
       "    </tr>\n",
       "    <tr>\n",
       "      <th>274997</th>\n",
       "      <td>Stone Castle Fence</td>\n",
       "      <td>Stone Castle Fence, 124 Cypress Gardens Rd, Mo...</td>\n",
       "      <td>0x88fe59f4602c95fd:0x57e2b1904d9e6949</td>\n",
       "      <td>None</td>\n",
       "      <td>33.089951</td>\n",
       "      <td>-80.078021</td>\n",
       "      <td>Fence contractor, Construction company, Contra...</td>\n",
       "      <td>4.0</td>\n",
       "      <td>18</td>\n",
       "      <td>None</td>\n",
       "      <td>[[Saturday, Closed], [Sunday, Closed], [Monday...</td>\n",
       "      <td>None</td>\n",
       "      <td>Closed ⋅ Opens 7AM Mon</td>\n",
       "      <td>[0x88fe8d1444299bbb:0x91daa2e82c59ea94, 0x88fe...</td>\n",
       "      <td>https://www.google.com/maps/place//data=!4m2!3...</td>\n",
       "    </tr>\n",
       "    <tr>\n",
       "      <th>274998</th>\n",
       "      <td>Health Insurance Solutions Team</td>\n",
       "      <td>Health Insurance Solutions Team, 6650 Rivers A...</td>\n",
       "      <td>0x88fe71f9617c15e1:0x89518c1d251706bf</td>\n",
       "      <td>None</td>\n",
       "      <td>32.918858</td>\n",
       "      <td>-80.027952</td>\n",
       "      <td>Health insurance agency</td>\n",
       "      <td>5.0</td>\n",
       "      <td>18</td>\n",
       "      <td>None</td>\n",
       "      <td>[[Saturday, Closed], [Sunday, Closed], [Monday...</td>\n",
       "      <td>{'Service options': ['Online appointments'], '...</td>\n",
       "      <td>Closed ⋅ Opens 8AM Mon</td>\n",
       "      <td>[0x88fe6fe45b8d3f15:0x41d4b940a40b246a, 0x88fe...</td>\n",
       "      <td>https://www.google.com/maps/place//data=!4m2!3...</td>\n",
       "    </tr>\n",
       "    <tr>\n",
       "      <th>274999</th>\n",
       "      <td>Bernard Building Center</td>\n",
       "      <td>Bernard Building Center, 27300 M-32, M-32, Hil...</td>\n",
       "      <td>0x4d34c7517d6e6e29:0x7fe553ee2f090cf0</td>\n",
       "      <td>None</td>\n",
       "      <td>45.056691</td>\n",
       "      <td>-83.894423</td>\n",
       "      <td>Building materials store, Electrical supply st...</td>\n",
       "      <td>4.7</td>\n",
       "      <td>25</td>\n",
       "      <td>None</td>\n",
       "      <td>[[Saturday, 8AM–3PM], [Sunday, Closed], [Monda...</td>\n",
       "      <td>{'Service options': ['Curbside pickup', 'Deliv...</td>\n",
       "      <td>Closed ⋅ Opens 7:30AM Mon</td>\n",
       "      <td>[0x4d335f6408d395d9:0xc20dea80d4c100d8, 0x4d34...</td>\n",
       "      <td>https://www.google.com/maps/place//data=!4m2!3...</td>\n",
       "    </tr>\n",
       "    <tr>\n",
       "      <th>275000</th>\n",
       "      <td>HMR Motor Works and Auto Care</td>\n",
       "      <td>HMR Motor Works and Auto Care, Mio, MI 48647</td>\n",
       "      <td>0x88208f4360c053ab:0xe3d6883f19601a01</td>\n",
       "      <td>None</td>\n",
       "      <td>44.649195</td>\n",
       "      <td>-84.130324</td>\n",
       "      <td>Auto repair shop</td>\n",
       "      <td>4.4</td>\n",
       "      <td>13</td>\n",
       "      <td>None</td>\n",
       "      <td>[[Saturday, 9AM–5:30PM], [Sunday, Closed], [Mo...</td>\n",
       "      <td>{'Accessibility': ['Wheelchair accessible entr...</td>\n",
       "      <td>Open ⋅ Closes 5:30PM</td>\n",
       "      <td>[0x88208e43a516e3ab:0xbb20b293f8e97ab2, 0x8820...</td>\n",
       "      <td>https://www.google.com/maps/place//data=!4m2!3...</td>\n",
       "    </tr>\n",
       "  </tbody>\n",
       "</table>\n",
       "<p>275001 rows × 15 columns</p>\n",
       "</div>"
      ],
      "text/plain": [
       "                                   name  \\\n",
       "0                       Porter Pharmacy   \n",
       "1                          City Textile   \n",
       "2                          San Soo Dang   \n",
       "3                          Nova Fabrics   \n",
       "4                      Nobel Textile Co   \n",
       "...                                 ...   \n",
       "274996                     Maven Realty   \n",
       "274997               Stone Castle Fence   \n",
       "274998  Health Insurance Solutions Team   \n",
       "274999          Bernard Building Center   \n",
       "275000    HMR Motor Works and Auto Care   \n",
       "\n",
       "                                                  address  \\\n",
       "0       Porter Pharmacy, 129 N Second St, Cochran, GA ...   \n",
       "1       City Textile, 3001 E Pico Blvd, Los Angeles, C...   \n",
       "2       San Soo Dang, 761 S Vermont Ave, Los Angeles, ...   \n",
       "3       Nova Fabrics, 2200 E 11th St, Los Angeles, CA ...   \n",
       "4       Nobel Textile Co, 719 E 9th St, Los Angeles, C...   \n",
       "...                                                   ...   \n",
       "274996  Maven Realty, 2180 McMillan Ave #71672, North ...   \n",
       "274997  Stone Castle Fence, 124 Cypress Gardens Rd, Mo...   \n",
       "274998  Health Insurance Solutions Team, 6650 Rivers A...   \n",
       "274999  Bernard Building Center, 27300 M-32, M-32, Hil...   \n",
       "275000       HMR Motor Works and Auto Care, Mio, MI 48647   \n",
       "\n",
       "                                      gmap_id description   latitude  \\\n",
       "0       0x88f16e41928ff687:0x883dad4fd048e8f8        None  32.388300   \n",
       "1       0x80c2c98c0e3c16fd:0x29ec8a728764fdf9        None  34.018891   \n",
       "2       0x80c2c778e3b73d33:0xbdc58662a4a97d49        None  34.058092   \n",
       "3        0x80c2c89923b27a41:0x32041559418d447        None  34.023669   \n",
       "4       0x80c2c632f933b073:0xc31785961fe826a6        None  34.036694   \n",
       "...                                       ...         ...        ...   \n",
       "274996  0x88fe64e7daceaaab:0x101c046dcadcc9c3        None  32.857737   \n",
       "274997  0x88fe59f4602c95fd:0x57e2b1904d9e6949        None  33.089951   \n",
       "274998  0x88fe71f9617c15e1:0x89518c1d251706bf        None  32.918858   \n",
       "274999  0x4d34c7517d6e6e29:0x7fe553ee2f090cf0        None  45.056691   \n",
       "275000  0x88208f4360c053ab:0xe3d6883f19601a01        None  44.649195   \n",
       "\n",
       "         longitude                                           category  \\\n",
       "0       -83.357100                                           Pharmacy   \n",
       "1      -118.215290                                   Textile exporter   \n",
       "2      -118.292130                                  Korean restaurant   \n",
       "3      -118.232930                                       Fabric store   \n",
       "4      -118.249421                                       Fabric store   \n",
       "...            ...                                                ...   \n",
       "274996  -79.985839                                 Real estate agency   \n",
       "274997  -80.078021  Fence contractor, Construction company, Contra...   \n",
       "274998  -80.027952                            Health insurance agency   \n",
       "274999  -83.894423  Building materials store, Electrical supply st...   \n",
       "275000  -84.130324                                   Auto repair shop   \n",
       "\n",
       "        avg_rating  num_of_reviews price  \\\n",
       "0              4.9              16  None   \n",
       "1              4.5               6  None   \n",
       "2              4.4              18  None   \n",
       "3              3.3               6  None   \n",
       "4              4.3               7  None   \n",
       "...            ...             ...   ...   \n",
       "274996         4.9              15  None   \n",
       "274997         4.0              18  None   \n",
       "274998         5.0              18  None   \n",
       "274999         4.7              25  None   \n",
       "275000         4.4              13  None   \n",
       "\n",
       "                                                    hours  \\\n",
       "0       [[Friday, 8AM–6PM], [Saturday, 8AM–12PM], [Sun...   \n",
       "1                                                    None   \n",
       "2       [[Thursday, 6:30AM–6PM], [Friday, 6:30AM–6PM],...   \n",
       "3       [[Thursday, 9AM–5PM], [Friday, 9AM–5PM], [Satu...   \n",
       "4       [[Thursday, 9AM–5PM], [Friday, 9AM–5PM], [Satu...   \n",
       "...                                                   ...   \n",
       "274996  [[Saturday, Open 24 hours], [Sunday, Open 24 h...   \n",
       "274997  [[Saturday, Closed], [Sunday, Closed], [Monday...   \n",
       "274998  [[Saturday, Closed], [Sunday, Closed], [Monday...   \n",
       "274999  [[Saturday, 8AM–3PM], [Sunday, Closed], [Monda...   \n",
       "275000  [[Saturday, 9AM–5:30PM], [Sunday, Closed], [Mo...   \n",
       "\n",
       "                                                     MISC  \\\n",
       "0       {'Service options': ['In-store shopping', 'Sam...   \n",
       "1                                                    None   \n",
       "2       {'Service options': ['Takeout', 'Dine-in', 'De...   \n",
       "3       {'Service options': ['In-store shopping'], 'Pa...   \n",
       "4                {'Service options': ['In-store pickup']}   \n",
       "...                                                   ...   \n",
       "274996                                               None   \n",
       "274997                                               None   \n",
       "274998  {'Service options': ['Online appointments'], '...   \n",
       "274999  {'Service options': ['Curbside pickup', 'Deliv...   \n",
       "275000  {'Accessibility': ['Wheelchair accessible entr...   \n",
       "\n",
       "                            state  \\\n",
       "0               Open ⋅ Closes 6PM   \n",
       "1                        Open now   \n",
       "2               Open ⋅ Closes 6PM   \n",
       "3               Open ⋅ Closes 5PM   \n",
       "4               Open ⋅ Closes 5PM   \n",
       "...                           ...   \n",
       "274996              Open 24 hours   \n",
       "274997     Closed ⋅ Opens 7AM Mon   \n",
       "274998     Closed ⋅ Opens 8AM Mon   \n",
       "274999  Closed ⋅ Opens 7:30AM Mon   \n",
       "275000       Open ⋅ Closes 5:30PM   \n",
       "\n",
       "                                         relative_results  \\\n",
       "0       [0x88f16e41929435cf:0x5b2532a2885e9ef6, 0x88f1...   \n",
       "1       [0x80c2c624136ea88b:0xb0315367ed448771, 0x80c2...   \n",
       "2       [0x80c2c78249aba68f:0x35bf16ce61be751d, 0x80c2...   \n",
       "3       [0x80c2c8811477253f:0x23a8a492df1918f7, 0x80c2...   \n",
       "4       [0x80c2c62c496083d1:0xdefa11317fe870a1, 0x80c2...   \n",
       "...                                                   ...   \n",
       "274996  [0x88fe657160ccc965:0xc675c849dc6d96ba, 0x88fe...   \n",
       "274997  [0x88fe8d1444299bbb:0x91daa2e82c59ea94, 0x88fe...   \n",
       "274998  [0x88fe6fe45b8d3f15:0x41d4b940a40b246a, 0x88fe...   \n",
       "274999  [0x4d335f6408d395d9:0xc20dea80d4c100d8, 0x4d34...   \n",
       "275000  [0x88208e43a516e3ab:0xbb20b293f8e97ab2, 0x8820...   \n",
       "\n",
       "                                                      url  \n",
       "0       https://www.google.com/maps/place//data=!4m2!3...  \n",
       "1       https://www.google.com/maps/place//data=!4m2!3...  \n",
       "2       https://www.google.com/maps/place//data=!4m2!3...  \n",
       "3       https://www.google.com/maps/place//data=!4m2!3...  \n",
       "4       https://www.google.com/maps/place//data=!4m2!3...  \n",
       "...                                                   ...  \n",
       "274996  https://www.google.com/maps/place//data=!4m2!3...  \n",
       "274997  https://www.google.com/maps/place//data=!4m2!3...  \n",
       "274998  https://www.google.com/maps/place//data=!4m2!3...  \n",
       "274999  https://www.google.com/maps/place//data=!4m2!3...  \n",
       "275000  https://www.google.com/maps/place//data=!4m2!3...  \n",
       "\n",
       "[275001 rows x 15 columns]"
      ]
     },
     "execution_count": 9,
     "metadata": {},
     "output_type": "execute_result"
    }
   ],
   "source": [
    "# eliminar caracteres \n",
    "df_metadata_1['category'] = df_metadata_1['category'].str.replace(\"[\", \"\").str.replace(\"]\", \"\")\n",
    "df_metadata_1['category'] = df_metadata_1['category'].str.replace(\"'\", \"\").str.replace(\"'\", \"\")\n",
    "df_metadata_1"
   ]
  },
  {
   "cell_type": "code",
   "execution_count": 10,
   "metadata": {},
   "outputs": [
    {
     "data": {
      "text/plain": [
       "(249618, 15)"
      ]
     },
     "execution_count": 10,
     "metadata": {},
     "output_type": "execute_result"
    }
   ],
   "source": [
    "#filtro de df_metadata por categorias\n",
    "mask = ~df_metadata_1['category'].isin(categories['category'])\n",
    "\n",
    "df_metadata_1 = df_metadata_1[mask]\n",
    "df_metadata_1.shape"
   ]
  },
  {
   "cell_type": "code",
   "execution_count": 11,
   "metadata": {},
   "outputs": [
    {
     "name": "stderr",
     "output_type": "stream",
     "text": [
      "/var/folders/vr/lstpy99j3yv9_z9jr_pmd2_w0000gn/T/ipykernel_7729/1346183700.py:2: SettingWithCopyWarning: \n",
      "A value is trying to be set on a copy of a slice from a DataFrame\n",
      "\n",
      "See the caveats in the documentation: https://pandas.pydata.org/pandas-docs/stable/user_guide/indexing.html#returning-a-view-versus-a-copy\n",
      "  df_metadata_1.drop_duplicates(subset='gmap_id', inplace=True)\n"
     ]
    },
    {
     "data": {
      "text/plain": [
       "(225474, 15)"
      ]
     },
     "execution_count": 11,
     "metadata": {},
     "output_type": "execute_result"
    }
   ],
   "source": [
    "#drop duplicated\n",
    "df_metadata_1.drop_duplicates(subset='gmap_id', inplace=True)\n",
    "df_metadata_1.shape"
   ]
  },
  {
   "attachments": {},
   "cell_type": "markdown",
   "metadata": {},
   "source": [
    "HACER LO MISMO CON LOS OTROS JSON DE METADATA\n",
    "UNIR LOS DF EN UN SOLO DF\n",
    "CREAR DF DE GMAP_ID UNICOS"
   ]
  },
  {
   "cell_type": "code",
   "execution_count": 29,
   "metadata": {},
   "outputs": [
    {
     "data": {
      "text/plain": [
       "0"
      ]
     },
     "execution_count": 29,
     "metadata": {},
     "output_type": "execute_result"
    }
   ],
   "source": [
    "#crea df con gmap_id unique (EJEMPLO)\n",
    "gmap_id = df_metadata_1['gmap_id'].drop_duplicates().to_frame()\n",
    "gmap_id"
   ]
  },
  {
   "cell_type": "code",
   "execution_count": 13,
   "metadata": {},
   "outputs": [
    {
     "data": {
      "text/plain": [
       "(150000, 8)"
      ]
     },
     "execution_count": 13,
     "metadata": {},
     "output_type": "execute_result"
    }
   ],
   "source": [
    "#import reviews\n",
    "df_review_al_1 = pd.read_json(\"datasets/review-Alabama/1.json\",lines=True)\n",
    "df_review_al_1.shape"
   ]
  },
  {
   "cell_type": "code",
   "execution_count": 14,
   "metadata": {},
   "outputs": [
    {
     "data": {
      "text/plain": [
       "(147686, 8)"
      ]
     },
     "execution_count": 14,
     "metadata": {},
     "output_type": "execute_result"
    }
   ],
   "source": [
    "#drop_duplicated\n",
    "df_review_al_1.drop_duplicates(subset=['user_id','gmap_id'],inplace=True)\n",
    "df_review_al_1.shape"
   ]
  },
  {
   "cell_type": "code",
   "execution_count": 22,
   "metadata": {},
   "outputs": [
    {
     "data": {
      "text/plain": [
       "(147686, 7)"
      ]
     },
     "execution_count": 22,
     "metadata": {},
     "output_type": "execute_result"
    }
   ],
   "source": [
    "#drop_columns\n",
    "df_review_al_1.drop(columns='pics', inplace=True)\n",
    "df_review_al_1.shape"
   ]
  },
  {
   "cell_type": "code",
   "execution_count": 30,
   "metadata": {},
   "outputs": [
    {
     "data": {
      "text/plain": [
       "(135524, 7)"
      ]
     },
     "execution_count": 30,
     "metadata": {},
     "output_type": "execute_result"
    }
   ],
   "source": [
    "#filtro de df_metadata por categorias\n",
    "mask = ~df_review_al_1['gmap_id'].isin(gmap_id['gmap_id'])\n",
    "\n",
    "df_review_al_1 = df_review_al_1[mask]\n",
    "df_review_al_1.shape"
   ]
  },
  {
   "cell_type": "code",
   "execution_count": null,
   "metadata": {},
   "outputs": [],
   "source": []
  }
 ],
 "metadata": {
  "kernelspec": {
   "display_name": "Python 3",
   "language": "python",
   "name": "python3"
  },
  "language_info": {
   "codemirror_mode": {
    "name": "ipython",
    "version": 3
   },
   "file_extension": ".py",
   "mimetype": "text/x-python",
   "name": "python",
   "nbconvert_exporter": "python",
   "pygments_lexer": "ipython3",
   "version": "3.10.8"
  },
  "orig_nbformat": 4,
  "vscode": {
   "interpreter": {
    "hash": "aee8b7b246df8f9039afb4144a1f6fd8d2ca17a180786b69acc140d282b71a49"
   }
  }
 },
 "nbformat": 4,
 "nbformat_minor": 2
}
