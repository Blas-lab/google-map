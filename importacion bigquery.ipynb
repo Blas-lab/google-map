{
 "cells": [
  {
   "cell_type": "code",
   "execution_count": 12,
   "metadata": {},
   "outputs": [],
   "source": [
    "# Importamos las librerias necesarias\n",
    "import pandas as pd  # Para ingestar los archivos csv \n",
    "from google.oauth2 import service_account  # Para autenticarnos en GCP\n",
    "import pandas_gbq  # Para subir los archivos desde este notebook a GCP"
   ]
  },
  {
   "cell_type": "code",
   "execution_count": 26,
   "metadata": {},
   "outputs": [],
   "source": [
    "# Importamos en un dataframe el archivo csv correspondiente al Estado de Alabama\n",
    "alabama = pd.read_csv(r\"datasets_import\\review-Alabama_final.csv\", delimiter=\";\", names= [\"user_id\",\"name\", \"time\", \"rating\", \"text\", \"resp\", \"gmap_id\"])"
   ]
  },
  {
   "cell_type": "code",
   "execution_count": 10,
   "metadata": {},
   "outputs": [],
   "source": [
    "# Generamos una variable con la key requerida para la autenticación en GCP\n",
    "bq_cred = service_account.Credentials.from_service_account_file(\"proyecto-final-data-06-377500-1be437e68663.json\")"
   ]
  },
  {
   "cell_type": "code",
   "execution_count": 29,
   "metadata": {},
   "outputs": [
    {
     "name": "stderr",
     "output_type": "stream",
     "text": [
      "100%|██████████| 1/1 [00:00<?, ?it/s]\n"
     ]
    }
   ],
   "source": [
    "# Subimos el dataframe de Alabama a GCP\n",
    "pandas_gbq.to_gbq(alabama, \"proyecto-final-data-06-377500.datasetPruebaRev.alabama\", project_id= \"proyecto-final-data-06-377500\", if_exists= \"replace\", credentials= bq_cred)"
   ]
  },
  {
   "cell_type": "code",
   "execution_count": 30,
   "metadata": {},
   "outputs": [],
   "source": [
    "# Repetimos el proceso con los 24 Estados restantes\n",
    "# En primer lugar generamos los dataframes con los distintos archivos csv\n",
    "arizona = pd.read_csv(r\"datasets_import\\review-Arizona_final.csv\", delimiter=\";\", names= [\"user_id\",\"name\", \"time\", \"rating\", \"text\", \"resp\", \"gmap_id\"])\n",
    "california = pd.read_csv(r\"datasets_import\\review-California_final.csv\", delimiter=\";\", names= [\"user_id\",\"name\", \"time\", \"rating\", \"text\", \"resp\", \"gmap_id\"])\n",
    "colorado = pd.read_csv(r\"datasets_import\\review-Colorado_final.csv\", delimiter=\";\", names= [\"user_id\",\"name\", \"time\", \"rating\", \"text\", \"resp\", \"gmap_id\"])\n",
    "connecticut = pd.read_csv(r\"datasets_import\\review-Connecticut_final.csv\", delimiter=\";\", names= [\"user_id\",\"name\", \"time\", \"rating\", \"text\", \"resp\", \"gmap_id\"])\n",
    "florida = pd.read_csv(r\"datasets_import\\review-Florida_final.csv\", delimiter=\";\", names= [\"user_id\",\"name\", \"time\", \"rating\", \"text\", \"resp\", \"gmap_id\"])\n",
    "georgia = pd.read_csv(r\"datasets_import\\review-Georgia_final.csv\", delimiter=\";\", names= [\"user_id\",\"name\", \"time\", \"rating\", \"text\", \"resp\", \"gmap_id\"])\n",
    "idaho = pd.read_csv(r\"datasets_import\\review-Idaho_final.csv\", delimiter=\";\", names= [\"user_id\",\"name\", \"time\", \"rating\", \"text\", \"resp\", \"gmap_id\"])\n",
    "indiana = pd.read_csv(r\"datasets_import\\review-Indiana_final.csv\", delimiter=\";\", names= [\"user_id\",\"name\", \"time\", \"rating\", \"text\", \"resp\", \"gmap_id\"])\n",
    "kansas = pd.read_csv(r\"datasets_import\\review-Kansas_final.csv\", delimiter=\";\", names= [\"user_id\",\"name\", \"time\", \"rating\", \"text\", \"resp\", \"gmap_id\"])\n",
    "lousiana = pd.read_csv(r\"datasets_import\\review-Louisiana_final.csv\", delimiter=\";\", names= [\"user_id\",\"name\", \"time\", \"rating\", \"text\", \"resp\", \"gmap_id\"])\n",
    "iowa = pd.read_csv(r\"datasets_import\\review-Iowa_final.csv\", delimiter=\";\", names= [\"user_id\",\"name\", \"time\", \"rating\", \"text\", \"resp\", \"gmap_id\"])\n",
    "massachusets = pd.read_csv(r\"datasets_import\\review-Massachusetts_final.csv\", delimiter=\";\", names= [\"user_id\",\"name\", \"time\", \"rating\", \"text\", \"resp\", \"gmap_id\"])\n",
    "michigan = pd.read_csv(r\"datasets_import\\review-Michigan_final.csv\", delimiter=\";\", names= [\"user_id\",\"name\", \"time\", \"rating\", \"text\", \"resp\", \"gmap_id\"])\n",
    "minnesota = pd.read_csv(r\"datasets_import\\review-Minnesota_final.csv\", delimiter=\";\", names= [\"user_id\",\"name\", \"time\", \"rating\", \"text\", \"resp\", \"gmap_id\"])\n",
    "mississippi = pd.read_csv(r\"datasets_import\\review-Mississippi_final.csv\", delimiter=\";\", names= [\"user_id\",\"name\", \"time\", \"rating\", \"text\", \"resp\", \"gmap_id\"])\n",
    "nebraska = pd.read_csv(r\"datasets_import\\review-Nebraska_final.csv\", delimiter=\";\", names= [\"user_id\",\"name\", \"time\", \"rating\", \"text\", \"resp\", \"gmap_id\"])\n",
    "nevada = pd.read_csv(r\"datasets_import\\review-Nevada_final.csv\", delimiter=\";\", names= [\"user_id\",\"name\", \"time\", \"rating\", \"text\", \"resp\", \"gmap_id\"])\n",
    "new_jersey = pd.read_csv(r\"datasets_import\\review-New_Jersey_final.csv\", delimiter=\";\", names= [\"user_id\",\"name\", \"time\", \"rating\", \"text\", \"resp\", \"gmap_id\"])\n",
    "new_york = pd.read_csv(r\"datasets_import\\review-New_York_final.csv\", delimiter=\";\", names= [\"user_id\",\"name\", \"time\", \"rating\", \"text\", \"resp\", \"gmap_id\"])\n",
    "north_dakota = pd.read_csv(r\"datasets_import\\review-North_Dakota_final.csv\", delimiter=\";\", names= [\"user_id\",\"name\", \"time\", \"rating\", \"text\", \"resp\", \"gmap_id\"])\n",
    "ohio = pd.read_csv(r\"datasets_import\\review-Ohio_final.csv\", delimiter=\";\", names= [\"user_id\",\"name\", \"time\", \"rating\", \"text\", \"resp\", \"gmap_id\"])\n",
    "pennsylvania = pd.read_csv(r\"datasets_import\\review-Pennsylvania_final.csv\", delimiter=\";\", names= [\"user_id\",\"name\", \"time\", \"rating\", \"text\", \"resp\", \"gmap_id\"])\n",
    "south_carolina = pd.read_csv(r\"datasets_import\\review-South_Carolina_final.csv\", delimiter=\";\", names= [\"user_id\",\"name\", \"time\", \"rating\", \"text\", \"resp\", \"gmap_id\"])\n",
    "illinois = pd.read_csv(r\"datasets_import\\review-Illinois_final.csv\", delimiter=\";\", names= [\"user_id\",\"name\", \"time\", \"rating\", \"text\", \"resp\", \"gmap_id\"])"
   ]
  },
  {
   "cell_type": "code",
   "execution_count": 31,
   "metadata": {},
   "outputs": [
    {
     "name": "stderr",
     "output_type": "stream",
     "text": [
      "100%|██████████| 1/1 [00:00<00:00, 1004.14it/s]\n",
      "100%|██████████| 1/1 [00:00<?, ?it/s]\n",
      "100%|██████████| 1/1 [00:00<00:00, 999.60it/s]\n",
      "100%|██████████| 1/1 [00:00<00:00, 1002.94it/s]\n",
      "100%|██████████| 1/1 [00:00<?, ?it/s]\n",
      "100%|██████████| 1/1 [00:00<00:00, 1109.90it/s]\n",
      "100%|██████████| 1/1 [00:00<?, ?it/s]\n",
      "100%|██████████| 1/1 [00:00<00:00, 1002.22it/s]\n",
      "100%|██████████| 1/1 [00:00<?, ?it/s]\n",
      "100%|██████████| 1/1 [00:00<00:00, 1004.14it/s]\n",
      "100%|██████████| 1/1 [00:00<?, ?it/s]\n",
      "100%|██████████| 1/1 [00:00<?, ?it/s]\n",
      "100%|██████████| 1/1 [00:00<?, ?it/s]\n",
      "100%|██████████| 1/1 [00:00<?, ?it/s]\n",
      "100%|██████████| 1/1 [00:00<00:00, 1002.22it/s]\n",
      "100%|██████████| 1/1 [00:00<?, ?it/s]\n",
      "100%|██████████| 1/1 [00:00<?, ?it/s]\n",
      "100%|██████████| 1/1 [00:00<?, ?it/s]\n",
      "100%|██████████| 1/1 [00:00<?, ?it/s]\n",
      "100%|██████████| 1/1 [00:00<?, ?it/s]\n",
      "100%|██████████| 1/1 [00:00<00:00, 1027.01it/s]\n",
      "100%|██████████| 1/1 [00:00<?, ?it/s]\n",
      "100%|██████████| 1/1 [00:00<?, ?it/s]\n",
      "100%|██████████| 1/1 [00:00<00:00, 1403.25it/s]\n"
     ]
    }
   ],
   "source": [
    "# Hacemos el upload de los datos en GCP\n",
    "pandas_gbq.to_gbq(arizona, \"proyecto-final-data-06-377500.datasetPruebaRev.arizona\", project_id= \"proyecto-final-data-06-377500\", if_exists= \"replace\", credentials= bq_cred)\n",
    "pandas_gbq.to_gbq(california, \"proyecto-final-data-06-377500.datasetPruebaRev.california\", project_id= \"proyecto-final-data-06-377500\", if_exists= \"replace\", credentials= bq_cred)\n",
    "pandas_gbq.to_gbq(colorado, \"proyecto-final-data-06-377500.datasetPruebaRev.colorado\", project_id= \"proyecto-final-data-06-377500\", if_exists= \"replace\", credentials= bq_cred)\n",
    "pandas_gbq.to_gbq(connecticut, \"proyecto-final-data-06-377500.datasetPruebaRev.connecticut\", project_id= \"proyecto-final-data-06-377500\", if_exists= \"replace\", credentials= bq_cred)\n",
    "pandas_gbq.to_gbq(florida, \"proyecto-final-data-06-377500.datasetPruebaRev.florida\", project_id= \"proyecto-final-data-06-377500\", if_exists= \"replace\", credentials= bq_cred)\n",
    "pandas_gbq.to_gbq(georgia, \"proyecto-final-data-06-377500.datasetPruebaRev.georgia\", project_id= \"proyecto-final-data-06-377500\", if_exists= \"replace\", credentials= bq_cred)\n",
    "pandas_gbq.to_gbq(idaho, \"proyecto-final-data-06-377500.datasetPruebaRev.idaho\", project_id= \"proyecto-final-data-06-377500\", if_exists= \"replace\", credentials= bq_cred)\n",
    "pandas_gbq.to_gbq(illinois, \"proyecto-final-data-06-377500.datasetPruebaRev.illinois\", project_id= \"proyecto-final-data-06-377500\", if_exists= \"replace\", credentials= bq_cred)\n",
    "pandas_gbq.to_gbq(indiana, \"proyecto-final-data-06-377500.datasetPruebaRev.indiana\", project_id= \"proyecto-final-data-06-377500\", if_exists= \"replace\", credentials= bq_cred)\n",
    "pandas_gbq.to_gbq(iowa, \"proyecto-final-data-06-377500.datasetPruebaRev.iowa\", project_id= \"proyecto-final-data-06-377500\", if_exists= \"replace\", credentials= bq_cred)\n",
    "pandas_gbq.to_gbq(kansas, \"proyecto-final-data-06-377500.datasetPruebaRev.kansas\", project_id= \"proyecto-final-data-06-377500\", if_exists= \"replace\", credentials= bq_cred)\n",
    "pandas_gbq.to_gbq(lousiana, \"proyecto-final-data-06-377500.datasetPruebaRev.louisiana\", project_id= \"proyecto-final-data-06-377500\", if_exists= \"replace\", credentials= bq_cred)\n",
    "pandas_gbq.to_gbq(massachusets, \"proyecto-final-data-06-377500.datasetPruebaRev.massachusets\", project_id= \"proyecto-final-data-06-377500\", if_exists= \"replace\", credentials= bq_cred)\n",
    "pandas_gbq.to_gbq(michigan, \"proyecto-final-data-06-377500.datasetPruebaRev.michigan\", project_id= \"proyecto-final-data-06-377500\", if_exists= \"replace\", credentials= bq_cred)\n",
    "pandas_gbq.to_gbq(minnesota, \"proyecto-final-data-06-377500.datasetPruebaRev.minnesota\", project_id= \"proyecto-final-data-06-377500\", if_exists= \"replace\", credentials= bq_cred)\n",
    "pandas_gbq.to_gbq(mississippi, \"proyecto-final-data-06-377500.datasetPruebaRev.mississippi\", project_id= \"proyecto-final-data-06-377500\", if_exists= \"replace\", credentials= bq_cred)\n",
    "pandas_gbq.to_gbq(nebraska, \"proyecto-final-data-06-377500.datasetPruebaRev.nebraska\", project_id= \"proyecto-final-data-06-377500\", if_exists= \"replace\", credentials= bq_cred)\n",
    "pandas_gbq.to_gbq(nevada, \"proyecto-final-data-06-377500.datasetPruebaRev.nevada\", project_id= \"proyecto-final-data-06-377500\", if_exists= \"replace\", credentials= bq_cred)\n",
    "pandas_gbq.to_gbq(new_jersey, \"proyecto-final-data-06-377500.datasetPruebaRev.new_jersey\", project_id= \"proyecto-final-data-06-377500\", if_exists= \"replace\", credentials= bq_cred)\n",
    "pandas_gbq.to_gbq(new_york, \"proyecto-final-data-06-377500.datasetPruebaRev.new_york\", project_id= \"proyecto-final-data-06-377500\", if_exists= \"replace\", credentials= bq_cred)\n",
    "pandas_gbq.to_gbq(north_dakota, \"proyecto-final-data-06-377500.datasetPruebaRev.north_dakota\", project_id= \"proyecto-final-data-06-377500\", if_exists= \"replace\", credentials= bq_cred)\n",
    "pandas_gbq.to_gbq(ohio, \"proyecto-final-data-06-377500.datasetPruebaRev.ohio\", project_id= \"proyecto-final-data-06-377500\", if_exists= \"replace\", credentials= bq_cred)\n",
    "pandas_gbq.to_gbq(pennsylvania, \"proyecto-final-data-06-377500.datasetPruebaRev.pennsylvania\", project_id= \"proyecto-final-data-06-377500\", if_exists= \"replace\", credentials= bq_cred)\n",
    "pandas_gbq.to_gbq(south_carolina, \"proyecto-final-data-06-377500.datasetPruebaRev.south_carolina\", project_id= \"proyecto-final-data-06-377500\", if_exists= \"replace\", credentials= bq_cred)\n"
   ]
  }
 ],
 "metadata": {
  "kernelspec": {
   "display_name": "Python 3",
   "language": "python",
   "name": "python3"
  },
  "language_info": {
   "codemirror_mode": {
    "name": "ipython",
    "version": 3
   },
   "file_extension": ".py",
   "mimetype": "text/x-python",
   "name": "python",
   "nbconvert_exporter": "python",
   "pygments_lexer": "ipython3",
   "version": "3.10.6"
  },
  "orig_nbformat": 4,
  "vscode": {
   "interpreter": {
    "hash": "9a8ac931c2da658386087c1aeacfbaae947468c457a926ada196b02a9b560fa1"
   }
  }
 },
 "nbformat": 4,
 "nbformat_minor": 2
}
